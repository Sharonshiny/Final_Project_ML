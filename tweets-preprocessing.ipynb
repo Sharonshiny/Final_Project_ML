{
 "cells": [
  {
   "cell_type": "code",
   "execution_count": 144,
   "metadata": {},
   "outputs": [],
   "source": [
    "import pandas as pd\n",
    "import numpy as np\n",
    "\n",
    "import nltk\n",
    "# nltk.download()\n",
    "from nltk.corpus import stopwords\n",
    "\n",
    "import re\n",
    "\n",
    "from sklearn.model_selection import train_test_split\n",
    "# !pip install -U gensim\n",
    "import gensim\n",
    "\n",
    "from keras.preprocessing.text import Tokenizer\n",
    "from keras.preprocessing.sequence import pad_sequences\n",
    "\n",
    "from keras.models import Sequential\n",
    "from keras.layers import Activation, Dense, Dropout, LSTM, Embedding\n",
    "from keras.utils import to_categorical"
   ]
  },
  {
   "cell_type": "code",
   "execution_count": 145,
   "metadata": {},
   "outputs": [],
   "source": [
    "data = pd.read_csv(\"Resources/CL_data/train.csv\")"
   ]
  },
  {
   "cell_type": "code",
   "execution_count": 146,
   "metadata": {},
   "outputs": [
    {
     "data": {
      "text/html": [
       "<div>\n",
       "<style scoped>\n",
       "    .dataframe tbody tr th:only-of-type {\n",
       "        vertical-align: middle;\n",
       "    }\n",
       "\n",
       "    .dataframe tbody tr th {\n",
       "        vertical-align: top;\n",
       "    }\n",
       "\n",
       "    .dataframe thead th {\n",
       "        text-align: right;\n",
       "    }\n",
       "</style>\n",
       "<table border=\"1\" class=\"dataframe\">\n",
       "  <thead>\n",
       "    <tr style=\"text-align: right;\">\n",
       "      <th></th>\n",
       "      <th>Id</th>\n",
       "      <th>Category</th>\n",
       "      <th>Tweet</th>\n",
       "    </tr>\n",
       "  </thead>\n",
       "  <tbody>\n",
       "    <tr>\n",
       "      <th>0</th>\n",
       "      <td>639976673685962000</td>\n",
       "      <td>0</td>\n",
       "      <td>And @whytology article 3 gives SCOTUS no legis...</td>\n",
       "    </tr>\n",
       "    <tr>\n",
       "      <th>1</th>\n",
       "      <td>641539752177586000</td>\n",
       "      <td>0</td>\n",
       "      <td>And 2nd it wasnt harrys fault that he had ran ...</td>\n",
       "    </tr>\n",
       "    <tr>\n",
       "      <th>2</th>\n",
       "      <td>639767721073315000</td>\n",
       "      <td>0</td>\n",
       "      <td>And I don't know about TGIF. Fridays are terri...</td>\n",
       "    </tr>\n",
       "    <tr>\n",
       "      <th>3</th>\n",
       "      <td>638850695349800000</td>\n",
       "      <td>0</td>\n",
       "      <td>And if my day wasn't bad enough already, Snoop...</td>\n",
       "    </tr>\n",
       "    <tr>\n",
       "      <th>4</th>\n",
       "      <td>638783969568366000</td>\n",
       "      <td>0</td>\n",
       "      <td>And in comes Sony with the letdown. Only one c...</td>\n",
       "    </tr>\n",
       "  </tbody>\n",
       "</table>\n",
       "</div>"
      ],
      "text/plain": [
       "                   Id  Category  \\\n",
       "0  639976673685962000         0   \n",
       "1  641539752177586000         0   \n",
       "2  639767721073315000         0   \n",
       "3  638850695349800000         0   \n",
       "4  638783969568366000         0   \n",
       "\n",
       "                                               Tweet  \n",
       "0  And @whytology article 3 gives SCOTUS no legis...  \n",
       "1  And 2nd it wasnt harrys fault that he had ran ...  \n",
       "2  And I don't know about TGIF. Fridays are terri...  \n",
       "3  And if my day wasn't bad enough already, Snoop...  \n",
       "4  And in comes Sony with the letdown. Only one c...  "
      ]
     },
     "execution_count": 146,
     "metadata": {},
     "output_type": "execute_result"
    }
   ],
   "source": [
    "data.head()"
   ]
  },
  {
   "cell_type": "code",
   "execution_count": 147,
   "metadata": {},
   "outputs": [],
   "source": [
    "data.rename(columns={'Id':'id',\n",
    "                          'Category':'label',\n",
    "                          'Tweet':'tweet'}, \n",
    "                 inplace=True)"
   ]
  },
  {
   "cell_type": "code",
   "execution_count": 148,
   "metadata": {},
   "outputs": [
    {
     "data": {
      "text/html": [
       "<div>\n",
       "<style scoped>\n",
       "    .dataframe tbody tr th:only-of-type {\n",
       "        vertical-align: middle;\n",
       "    }\n",
       "\n",
       "    .dataframe tbody tr th {\n",
       "        vertical-align: top;\n",
       "    }\n",
       "\n",
       "    .dataframe thead th {\n",
       "        text-align: right;\n",
       "    }\n",
       "</style>\n",
       "<table border=\"1\" class=\"dataframe\">\n",
       "  <thead>\n",
       "    <tr style=\"text-align: right;\">\n",
       "      <th></th>\n",
       "      <th>id</th>\n",
       "      <th>label</th>\n",
       "      <th>tweet</th>\n",
       "    </tr>\n",
       "  </thead>\n",
       "  <tbody>\n",
       "    <tr>\n",
       "      <th>0</th>\n",
       "      <td>639976673685962000</td>\n",
       "      <td>0</td>\n",
       "      <td>And @whytology article 3 gives SCOTUS no legis...</td>\n",
       "    </tr>\n",
       "    <tr>\n",
       "      <th>1</th>\n",
       "      <td>641539752177586000</td>\n",
       "      <td>0</td>\n",
       "      <td>And 2nd it wasnt harrys fault that he had ran ...</td>\n",
       "    </tr>\n",
       "    <tr>\n",
       "      <th>2</th>\n",
       "      <td>639767721073315000</td>\n",
       "      <td>0</td>\n",
       "      <td>And I don't know about TGIF. Fridays are terri...</td>\n",
       "    </tr>\n",
       "    <tr>\n",
       "      <th>3</th>\n",
       "      <td>638850695349800000</td>\n",
       "      <td>0</td>\n",
       "      <td>And if my day wasn't bad enough already, Snoop...</td>\n",
       "    </tr>\n",
       "    <tr>\n",
       "      <th>4</th>\n",
       "      <td>638783969568366000</td>\n",
       "      <td>0</td>\n",
       "      <td>And in comes Sony with the letdown. Only one c...</td>\n",
       "    </tr>\n",
       "  </tbody>\n",
       "</table>\n",
       "</div>"
      ],
      "text/plain": [
       "                   id  label  \\\n",
       "0  639976673685962000      0   \n",
       "1  641539752177586000      0   \n",
       "2  639767721073315000      0   \n",
       "3  638850695349800000      0   \n",
       "4  638783969568366000      0   \n",
       "\n",
       "                                               tweet  \n",
       "0  And @whytology article 3 gives SCOTUS no legis...  \n",
       "1  And 2nd it wasnt harrys fault that he had ran ...  \n",
       "2  And I don't know about TGIF. Fridays are terri...  \n",
       "3  And if my day wasn't bad enough already, Snoop...  \n",
       "4  And in comes Sony with the letdown. Only one c...  "
      ]
     },
     "execution_count": 148,
     "metadata": {},
     "output_type": "execute_result"
    }
   ],
   "source": [
    "data.head()"
   ]
  },
  {
   "cell_type": "code",
   "execution_count": 149,
   "metadata": {},
   "outputs": [
    {
     "data": {
      "text/plain": [
       "(2742, 3)"
      ]
     },
     "execution_count": 149,
     "metadata": {},
     "output_type": "execute_result"
    }
   ],
   "source": [
    "data.shape"
   ]
  },
  {
   "cell_type": "code",
   "execution_count": 150,
   "metadata": {},
   "outputs": [
    {
     "data": {
      "text/plain": [
       "1    2165\n",
       "0     577\n",
       "Name: label, dtype: int64"
      ]
     },
     "execution_count": 150,
     "metadata": {},
     "output_type": "execute_result"
    }
   ],
   "source": [
    "data[\"label\"].value_counts()"
   ]
  },
  {
   "cell_type": "markdown",
   "metadata": {},
   "source": [
    "## Cleaning the data"
   ]
  },
  {
   "cell_type": "code",
   "execution_count": 151,
   "metadata": {},
   "outputs": [],
   "source": [
    "# dropping id column\n",
    "\n",
    "data = data.drop(\"id\", axis=1)"
   ]
  },
  {
   "cell_type": "code",
   "execution_count": 152,
   "metadata": {},
   "outputs": [],
   "source": [
    "stopwords = stopwords.words('english')"
   ]
  },
  {
   "cell_type": "code",
   "execution_count": 153,
   "metadata": {},
   "outputs": [],
   "source": [
    "def tweet_cleaner(tweet):\n",
    "    tweet = re.sub(r\"@\\w*\", \" \", str(tweet).lower()).strip() #removing username\n",
    "    tweet = re.sub(r'https?://[A-Za-z0-9./]+', \" \", str(tweet).lower()).strip() #removing links\n",
    "    tweet = re.sub(r'[^a-zA-Z]', \" \", str(tweet).lower()).strip() #removing sp_char\n",
    "    tw = []\n",
    "    \n",
    "    for text in tweet.split():\n",
    "        if text not in stopwords:\n",
    "            tw.append(text)\n",
    "    \n",
    "    return \" \".join(tw)"
   ]
  },
  {
   "cell_type": "code",
   "execution_count": 154,
   "metadata": {},
   "outputs": [],
   "source": [
    "data.tweet = data.tweet.apply(lambda x: tweet_cleaner(x))"
   ]
  },
  {
   "cell_type": "markdown",
   "metadata": {},
   "source": [
    "### word2vec"
   ]
  },
  {
   "cell_type": "code",
   "execution_count": 155,
   "metadata": {},
   "outputs": [],
   "source": [
    "documents = [text.split() for text in data.tweet]"
   ]
  },
  {
   "cell_type": "code",
   "execution_count": 156,
   "metadata": {},
   "outputs": [
    {
     "data": {
      "text/plain": [
       "2742"
      ]
     },
     "execution_count": 156,
     "metadata": {},
     "output_type": "execute_result"
    }
   ],
   "source": [
    "len(documents)"
   ]
  },
  {
   "cell_type": "code",
   "execution_count": 157,
   "metadata": {},
   "outputs": [],
   "source": [
    "w2v_model = gensim.models.word2vec.Word2Vec(size = 256, window = 7, min_count = 5)"
   ]
  },
  {
   "cell_type": "code",
   "execution_count": 158,
   "metadata": {},
   "outputs": [],
   "source": [
    "w2v_model.build_vocab(documents)"
   ]
  },
  {
   "cell_type": "code",
   "execution_count": 159,
   "metadata": {},
   "outputs": [
    {
     "data": {
      "text/plain": [
       "(593923, 967424)"
      ]
     },
     "execution_count": 159,
     "metadata": {},
     "output_type": "execute_result"
    }
   ],
   "source": [
    "w2v_model.train(documents, total_examples=len(documents), epochs=32)"
   ]
  },
  {
   "cell_type": "code",
   "execution_count": 160,
   "metadata": {},
   "outputs": [
    {
     "data": {
      "text/plain": [
       "array([ 0.06590464, -0.3196186 , -0.06217399,  0.14874361,  0.40737784,\n",
       "       -0.13573837, -0.0475671 ,  0.06620029, -0.3383426 , -0.26824862,\n",
       "        0.4216163 , -0.37650153, -0.4973726 ,  0.1038716 , -0.1974961 ,\n",
       "        0.15772966,  0.23839957, -0.06445148, -0.20530394,  0.31666464,\n",
       "        0.0016158 , -0.1569447 ,  0.60311073, -0.29148468, -0.1695796 ,\n",
       "       -0.06789075, -0.0683419 ,  0.0537324 ,  0.05842369, -0.17793119,\n",
       "        0.299001  , -0.13697407, -0.08911684, -0.2627426 , -0.10975121,\n",
       "        0.0563928 ,  0.22179131,  0.05979598,  0.41608202, -0.38272715,\n",
       "       -0.00415148, -0.12308431, -0.11639325, -0.2698516 ,  0.4435986 ,\n",
       "        0.03127245, -0.28358015,  0.08813322, -0.00646646,  0.33259115,\n",
       "        0.01340492, -0.00255785,  0.0115562 ,  0.16007955,  0.28575575,\n",
       "        0.01579565, -0.28520483,  0.3184867 , -0.22819598, -0.5487315 ,\n",
       "        0.2371987 ,  0.1259444 , -0.03294426,  0.24100785, -0.12397758,\n",
       "        0.14174476,  0.02814276,  0.13918383,  0.03450953,  0.09171473,\n",
       "       -0.35995835, -0.0631705 , -0.33847535,  0.09515759,  0.1076841 ,\n",
       "        0.255798  ,  0.30255166, -0.30793825,  0.15834655, -0.37207985,\n",
       "       -0.3591572 , -0.24149399, -0.04268073,  0.33822045,  0.04644145,\n",
       "        0.5357799 , -0.05329478,  0.18864919, -0.19237196, -0.02335143,\n",
       "       -0.4318732 , -0.26770347, -0.650645  , -0.1681382 ,  0.14283627,\n",
       "        0.26108748,  0.14854527,  0.063495  ,  0.2163412 , -0.21870777,\n",
       "       -0.02170924,  0.25699115,  0.08321189,  0.06681202,  0.3058508 ,\n",
       "        0.10368702, -0.05294445,  0.07912418,  0.14844006, -0.06028117,\n",
       "       -0.06972293,  0.05745609, -0.41846484, -0.13069087, -0.34162953,\n",
       "        0.23157012,  0.08118849,  0.28134063, -0.08991798,  0.28260988,\n",
       "       -0.15568657,  0.03052832, -0.4203083 ,  0.153863  , -0.00689301,\n",
       "        0.06434197, -0.21451128, -0.14499457,  0.11239339,  0.07902329,\n",
       "        0.43012905, -0.23910823, -0.50486726,  0.2092096 ,  0.21342151,\n",
       "       -0.36124364,  0.16126879, -0.20459105,  0.08335315, -0.2564081 ,\n",
       "        0.15014817, -0.15621728, -0.43043396, -0.17924887,  0.31348836,\n",
       "        0.33716246,  0.3975676 , -0.22817595, -0.45214733,  0.25388446,\n",
       "       -0.2624714 ,  0.21699178, -0.12995456, -0.15695906, -0.4427621 ,\n",
       "        0.04519157, -0.04184742, -0.13097757, -0.01721315,  0.11467955,\n",
       "        0.06905592, -0.05561303,  0.05498341,  0.1972019 , -0.4388027 ,\n",
       "        0.35246056,  0.08616201,  0.28909737, -0.09425187, -0.17196326,\n",
       "        0.04755659,  0.04999555,  0.12718335, -0.20077167,  0.37118807,\n",
       "       -0.12923457, -0.07167459,  0.32416853,  0.07416472, -0.00610848,\n",
       "       -0.17786783, -0.06099709, -0.5861119 , -0.02489432, -0.28658158,\n",
       "       -0.8086379 ,  0.12521169,  0.27683008, -0.07441574,  0.34154385,\n",
       "        0.02399314, -0.28160462,  0.05684882,  0.1361238 ,  0.18127036,\n",
       "        0.04775324,  0.32256284, -0.02623241, -0.13173574, -0.12104537,\n",
       "       -0.17630939, -0.04539401,  0.0793084 ,  0.35865438,  0.46418273,\n",
       "        0.4426091 , -0.08261403,  0.09926712,  0.18728533, -0.23389381,\n",
       "       -0.26796183, -0.1268129 ,  0.08452982,  0.03632735,  0.04591011,\n",
       "        0.22382903,  0.21333414, -0.1561632 ,  0.48748726, -0.13146639,\n",
       "       -0.15527803,  0.06192516,  0.0418931 ,  0.02382859, -0.2490131 ,\n",
       "       -0.258317  ,  0.00319032,  0.00607979,  0.03501468,  0.02871112,\n",
       "        0.23361965, -0.03961946, -0.5007681 ,  0.10958452,  0.20288874,\n",
       "        0.3661038 ,  0.14938216, -0.12882683, -0.3948097 , -0.14518225,\n",
       "       -0.55004656,  0.00869259,  0.02437164,  0.02671218, -0.5218655 ,\n",
       "       -0.285987  , -0.21124084,  0.21719906,  0.0056997 ,  0.31175333,\n",
       "       -0.582958  , -0.23328707, -0.12639181,  0.15933283,  0.0867684 ,\n",
       "       -0.05632171], dtype=float32)"
      ]
     },
     "execution_count": 160,
     "metadata": {},
     "output_type": "execute_result"
    }
   ],
   "source": [
    "w2v_model.wv[\"happy\"]"
   ]
  },
  {
   "cell_type": "markdown",
   "metadata": {},
   "source": [
    "### Converting tweets to vectors"
   ]
  },
  {
   "cell_type": "code",
   "execution_count": 161,
   "metadata": {},
   "outputs": [],
   "source": [
    "tokenizer = Tokenizer()\n",
    "tokenizer.fit_on_texts(data.tweet)"
   ]
  },
  {
   "cell_type": "code",
   "execution_count": 162,
   "metadata": {},
   "outputs": [
    {
     "data": {
      "text/plain": [
       "7011"
      ]
     },
     "execution_count": 162,
     "metadata": {},
     "output_type": "execute_result"
    }
   ],
   "source": [
    "len(tokenizer.word_index)"
   ]
  },
  {
   "cell_type": "code",
   "execution_count": 163,
   "metadata": {},
   "outputs": [],
   "source": [
    "x_train = pad_sequences(tokenizer.texts_to_sequences(data.tweet), maxlen=256, padding=\"post\", truncating=\"post\")"
   ]
  },
  {
   "cell_type": "code",
   "execution_count": 164,
   "metadata": {},
   "outputs": [
    {
     "data": {
      "text/plain": [
       "array([[1045, 1046,  363, ...,    0,    0,    0],\n",
       "       [  28, 1779, 2769, ...,    0,    0,    0],\n",
       "       [  33,   37, 2772, ...,    0,    0,    0],\n",
       "       ...,\n",
       "       [ 110,  220,    2, ...,    0,    0,    0],\n",
       "       [ 110, 1262,    2, ...,    0,    0,    0],\n",
       "       [ 110, 7009, 7010, ...,    0,    0,    0]], dtype=int32)"
      ]
     },
     "execution_count": 164,
     "metadata": {},
     "output_type": "execute_result"
    }
   ],
   "source": [
    "x_train"
   ]
  },
  {
   "cell_type": "code",
   "execution_count": 165,
   "metadata": {},
   "outputs": [],
   "source": [
    "y_train = data.label\n",
    "\n",
    "y_train_f = []\n",
    "for x in y_train:\n",
    "    if x == 1:\n",
    "        y_train_f.append(1)\n",
    "    elif x == 0:\n",
    "        y_train_f.append(0)\n",
    "    elif x == -1:\n",
    "        y_train_f.append(2)\n",
    "        \n",
    "y_train_f = to_categorical(y_train_f)"
   ]
  },
  {
   "cell_type": "code",
   "execution_count": 166,
   "metadata": {},
   "outputs": [
    {
     "data": {
      "text/plain": [
       "array([[1., 0.],\n",
       "       [1., 0.],\n",
       "       [1., 0.],\n",
       "       ...,\n",
       "       [0., 1.],\n",
       "       [0., 1.],\n",
       "       [0., 1.]], dtype=float32)"
      ]
     },
     "execution_count": 166,
     "metadata": {},
     "output_type": "execute_result"
    }
   ],
   "source": [
    "y_train_f"
   ]
  },
  {
   "cell_type": "markdown",
   "metadata": {},
   "source": [
    "### Model"
   ]
  },
  {
   "cell_type": "code",
   "execution_count": 167,
   "metadata": {},
   "outputs": [],
   "source": [
    "embedding_matrix = np.zeros((14850,256))"
   ]
  },
  {
   "cell_type": "code",
   "execution_count": 168,
   "metadata": {},
   "outputs": [],
   "source": [
    "for word, i in tokenizer.word_index.items():\n",
    "    if word in w2v_model.wv:\n",
    "        embedding_matrix[i] = w2v_model.wv[word]"
   ]
  },
  {
   "cell_type": "code",
   "execution_count": 169,
   "metadata": {},
   "outputs": [],
   "source": [
    "embedding_layer = Embedding(14850, 256, weights=[embedding_matrix], input_length=256, trainable=False)"
   ]
  },
  {
   "cell_type": "code",
   "execution_count": 170,
   "metadata": {},
   "outputs": [],
   "source": [
    "model = Sequential()\n",
    "model.add(embedding_layer)\n",
    "model.add(Dropout(0.25))\n",
    "model.add(Dense(200, activation=\"relu\"))\n",
    "model.add(Dropout(0.25))\n",
    "model.add(LSTM(100, dropout=0.2, recurrent_dropout=0.2))\n",
    "model.add(Dense(50, activation=\"relu\"))\n",
    "model.add(Dense(2, activation=\"softmax\"))"
   ]
  },
  {
   "cell_type": "code",
   "execution_count": 171,
   "metadata": {},
   "outputs": [
    {
     "name": "stdout",
     "output_type": "stream",
     "text": [
      "_________________________________________________________________\n",
      "Layer (type)                 Output Shape              Param #   \n",
      "=================================================================\n",
      "embedding_3 (Embedding)      (None, 256, 256)          3801600   \n",
      "_________________________________________________________________\n",
      "dropout_7 (Dropout)          (None, 256, 256)          0         \n",
      "_________________________________________________________________\n",
      "dense_10 (Dense)             (None, 256, 200)          51400     \n",
      "_________________________________________________________________\n",
      "dropout_8 (Dropout)          (None, 256, 200)          0         \n",
      "_________________________________________________________________\n",
      "lstm_4 (LSTM)                (None, 100)               120400    \n",
      "_________________________________________________________________\n",
      "dense_11 (Dense)             (None, 50)                5050      \n",
      "_________________________________________________________________\n",
      "dense_12 (Dense)             (None, 2)                 102       \n",
      "=================================================================\n",
      "Total params: 3,978,552\n",
      "Trainable params: 176,952\n",
      "Non-trainable params: 3,801,600\n",
      "_________________________________________________________________\n"
     ]
    }
   ],
   "source": [
    "model.summary()"
   ]
  },
  {
   "cell_type": "code",
   "execution_count": 172,
   "metadata": {},
   "outputs": [],
   "source": [
    "model.compile(loss='categorical_crossentropy',\n",
    "              optimizer=\"adam\",\n",
    "              metrics=['accuracy'])"
   ]
  },
  {
   "cell_type": "code",
   "execution_count": 173,
   "metadata": {},
   "outputs": [
    {
     "name": "stdout",
     "output_type": "stream",
     "text": [
      "Train on 2467 samples, validate on 275 samples\n",
      "Epoch 1/6\n",
      "2467/2467 [==============================] - 32s 13ms/step - loss: 0.5632 - acc: 0.7580 - val_loss: 0.2960 - val_acc: 1.0000\n",
      "Epoch 2/6\n",
      "2467/2467 [==============================] - 29s 12ms/step - loss: 0.5490 - acc: 0.7661 - val_loss: 0.2230 - val_acc: 1.0000\n",
      "Epoch 3/6\n",
      "2467/2467 [==============================] - 30s 12ms/step - loss: 0.5474 - acc: 0.7661 - val_loss: 0.2318 - val_acc: 1.0000\n",
      "Epoch 4/6\n",
      "2467/2467 [==============================] - 32s 13ms/step - loss: 0.5470 - acc: 0.7661 - val_loss: 0.2273 - val_acc: 1.0000\n",
      "Epoch 5/6\n",
      "2467/2467 [==============================] - 33s 13ms/step - loss: 0.5476 - acc: 0.7661 - val_loss: 0.2858 - val_acc: 1.0000\n",
      "Epoch 6/6\n",
      "2467/2467 [==============================] - 31s 13ms/step - loss: 0.5433 - acc: 0.7661 - val_loss: 0.3419 - val_acc: 1.0000\n"
     ]
    },
    {
     "data": {
      "text/plain": [
       "<keras.callbacks.History at 0x1a54c9bfd0>"
      ]
     },
     "execution_count": 173,
     "metadata": {},
     "output_type": "execute_result"
    }
   ],
   "source": [
    "model.fit(x_train, y_train_f, batch_size=32, epochs=6, validation_split=0.1, verbose=1)"
   ]
  },
  {
   "cell_type": "markdown",
   "metadata": {},
   "source": [
    "# Testing"
   ]
  },
  {
   "cell_type": "code",
   "execution_count": 182,
   "metadata": {},
   "outputs": [],
   "source": [
    "def sentiment(text):\n",
    "    \n",
    "    x_test = pad_sequences(tokenizer.texts_to_sequences([text]), maxlen=256)\n",
    "    score = model.predict([x_test])[0]\n",
    "    \n",
    "    final = \"Positive = %f ,Negative = %f\" % (score[1], score[0])\n",
    "    return print(final)"
   ]
  },
  {
   "cell_type": "code",
   "execution_count": 186,
   "metadata": {},
   "outputs": [
    {
     "name": "stdout",
     "output_type": "stream",
     "text": [
      "Positive = 0.739286 ,Negative = 0.260714\n"
     ]
    }
   ],
   "source": [
    "sentiment(\"dont tell\")"
   ]
  },
  {
   "cell_type": "code",
   "execution_count": null,
   "metadata": {},
   "outputs": [],
   "source": []
  }
 ],
 "metadata": {
  "kernelspec": {
   "display_name": "Python 3",
   "language": "python",
   "name": "python3"
  },
  "language_info": {
   "codemirror_mode": {
    "name": "ipython",
    "version": 3
   },
   "file_extension": ".py",
   "mimetype": "text/x-python",
   "name": "python",
   "nbconvert_exporter": "python",
   "pygments_lexer": "ipython3",
   "version": "3.7.1"
  }
 },
 "nbformat": 4,
 "nbformat_minor": 1
}
